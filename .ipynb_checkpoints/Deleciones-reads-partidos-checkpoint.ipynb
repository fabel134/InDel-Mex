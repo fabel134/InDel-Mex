{
 "cells": [
  {
   "cell_type": "markdown",
   "metadata": {},
   "source": [
    "# Tutorial para analizar los read partidos en las deleciones"
   ]
  },
  {
   "cell_type": "markdown",
   "metadata": {},
   "source": [
    "## 1° Buscar los archivos \"sam\" de la muestra 413 los cuales tienen deleciones detectadas\n"
   ]
  },
  {
   "cell_type": "markdown",
   "metadata": {},
   "source": [
    "Debemos ingresar al cluster de Langebio con el usuario segun nos correspoda (ssh usuario@ip)\n",
    "$ cd /LUSTRE/usuario/aherrera/covid/abril/alineamientosMal/celia-sam"
   ]
  },
  {
   "cell_type": "markdown",
   "metadata": {},
   "source": [
    "Corrimos el archivo 413.sam con el siguiente script\n",
    "\n",
    " $ cat 413.sam | cut -f1,4 | sort -k3 -n -r > name-reads\n",
    " \n",
    "cat : abre el archivo\n",
    "cut -f1,4 = del archivo recorta las columnas 1 y 4\n",
    "sort = ordena los datos de las dos columnas\n",
    "* -k3 = ordena los datos por la columna 3 (deberia ser por la segunda columna, pero tenemos un espacio en la linea y hacer que bash se confunda).\n",
    "* -n = los ordena de forma numerica\n",
    "* -r = al mismo tiempo pone los datos del mayor al menor\n",
    "    \n",
    "nota: recuerda que cuando tienes un espacio en la linea, bash se confunde y lo toma como otra columna. Verifica que tu linea no tenga espacios."
   ]
  },
  {
   "cell_type": "markdown",
   "metadata": {},
   "source": [
    "# output: \n",
    "\n",
    "[aherrera@mazorka celia-sam]$ cat 413.sam | cut -f1,4 | sort -k3 -n -r | head\n",
    "\n",
    "NB501110:185:H7L72AFX2:3:11507:21445:1375 1:N:0:TAAGGCGA+AGAGGATA       29835\n",
    "NB501110:185:H7L72AFX2:4:11507:1091:3775 2:N:0:TAAGGCGA+AGAGGATA        29818\n",
    "NB501110:185:H7L72AFX2:4:11507:1091:3775 1:N:0:TAAGGCGA+AGAGGATA        29818\n",
    "NB501110:185:H7L72AFX2:4:11506:26472:3781 2:N:0:TAAGGCGA+AGAGGATA       29818\n",
    "NB501110:185:H7L72AFX2:4:11506:26472:3781 1:N:0:TAAGGCGA+AGAGGATA       29818\n",
    "NB501110:185:H7L72AFX2:3:21511:10348:14439 2:N:0:TAAGGCGA+AGAGGATA      29818\n",
    "NB501110:185:H7L72AFX2:3:21511:10348:14439 1:N:0:TAAGGCGA+AGAGGATA      29818\n",
    "NB501110:185:H7L72AFX2:4:21404:14848:1270 2:N:0:TAAGGCGA+AGAGGATA       29814\n",
    "NB501110:185:H7L72AFX2:4:21404:14848:1270 1:N:0:TAAGGCGA+AGAGGATA       29814\n",
    "NB501110:185:H7L72AFX2:2:21310:26034:3472 2:N:0:TAAGGCGA+AGAGGATA       29808"
   ]
  },
  {
   "cell_type": "code",
   "execution_count": null,
   "metadata": {},
   "outputs": [],
   "source": [
    " ## 2° Identifica la posicion de la deleción:\n",
    "* Inicia la delecion: 27875 - 100 posiciones\n",
    "* Termina la delecion: 28233 + 100 posiciones"
   ]
  },
  {
   "cell_type": "markdown",
   "metadata": {},
   "source": [
    "## 3° Obten una lista de los reads que hagan match 150 pb antes del inicio de la delecion"
   ]
  },
  {
   "cell_type": "markdown",
   "metadata": {},
   "source": [
    "$ awk '$3 >= 27775 && $3 <= 27925 ' name-reads > antes-del\n",
    "\n",
    "este script te dice que de la columna 3 tome los valores que sean mayor igual a 27775, pero que tambien tome los valores que sean menor igual a 27925."
   ]
  },
  {
   "cell_type": "markdown",
   "metadata": {},
   "source": [
    "## 4° obten una lista de los reads que hagan match 150 pb despues del final de la delecion"
   ]
  },
  {
   "cell_type": "markdown",
   "metadata": {},
   "source": [
    "$ awk '$3 >= 28233 && $3 <= 28383 ' name-reads > despues-del\n",
    "\n",
    "#nota: recuerda que cuando tienes un espacio en la linea, bash se confunde y lo toma como otra columna. Verifica que tu linea no tenga espacios."
   ]
  },
  {
   "cell_type": "markdown",
   "metadata": {},
   "source": [
    "## 5° compara las dos listas entre si "
   ]
  },
  {
   "cell_type": "markdown",
   "metadata": {},
   "source": [
    "Unir los archivos \"antes-del\" y \"despues-del\"\n",
    "\n",
    "$ cat antes-del despues-del > all-del\n",
    "\n",
    "Ordenar y contar los reads repetidos\n",
    "\n",
    "$ cat all-del | sort | uniq -c\n",
    "\n",
    "cat : abre el archivo all-del \n",
    "sort: ordena los archivos\n",
    "uniq -c : los archivos que esten repetidos los une en uno solo y al fina cuenta cuantos hay repetidos."
   ]
  },
  {
   "cell_type": "markdown",
   "metadata": {},
   "source": [
    "## 6° si hace match el metodo no funciona para detectar deleciones"
   ]
  },
  {
   "cell_type": "markdown",
   "metadata": {},
   "source": [
    "[aherrera@mazorka celia-sam]$ cat all-del | sort | uniq -c | head\n",
    "\n",
    "      1 NB501110:185:H7L72AFX2:1:11101:13093:13622 1:N:0:TAAGGCGA+AGAGGATA      27792\n",
    "      1 NB501110:185:H7L72AFX2:1:11101:13093:13622 2:N:0:TAAGGCGA+AGAGGATA      27792\n",
    "      1 NB501110:185:H7L72AFX2:1:11101:13597:8716 2:N:0:TAAGGCGA+AGAGGATA       28234\n",
    "      1 NB501110:185:H7L72AFX2:1:11101:14301:1188 1:N:0:TAAGGCGA+AGAGGATA       28255\n",
    "      1 NB501110:185:H7L72AFX2:1:11101:14301:1188 2:N:0:TAAGGCGA+AGAGGATA       28305\n",
    "      1 NB501110:185:H7L72AFX2:1:11101:15710:10990 1:N:0:TAAGGCGA+AGAGGATA      28254\n",
    "      1 NB501110:185:H7L72AFX2:1:11101:15710:10990 2:N:0:TAAGGCGA+AGAGGATA      28254\n",
    "      1 NB501110:185:H7L72AFX2:1:11101:16283:4812 1:N:0:TAAGGCGA+AGAGGATA       28267\n",
    "      1 NB501110:185:H7L72AFX2:1:11101:16283:4812 2:N:0:TAAGGCGA+AGAGGATA       28305\n",
    "      1 NB501110:185:H7L72AFX2:1:11101:1895:1113 1:N:0:TAAGGCGA+AGAGGATA        28234\n",
    "\n",
    "\n"
   ]
  },
  {
   "cell_type": "markdown",
   "metadata": {},
   "source": [
    "Conclusion: No hace match con los reads, posiblemente el metodo funciona para detectar deleciones."
   ]
  },
  {
   "cell_type": "code",
   "execution_count": null,
   "metadata": {},
   "outputs": [],
   "source": []
  }
 ],
 "metadata": {
  "kernelspec": {
   "display_name": "Python 3",
   "language": "python",
   "name": "python3"
  },
  "language_info": {
   "codemirror_mode": {
    "name": "ipython",
    "version": 3
   },
   "file_extension": ".py",
   "mimetype": "text/x-python",
   "name": "python",
   "nbconvert_exporter": "python",
   "pygments_lexer": "ipython3",
   "version": "3.8.3"
  }
 },
 "nbformat": 4,
 "nbformat_minor": 4
}
