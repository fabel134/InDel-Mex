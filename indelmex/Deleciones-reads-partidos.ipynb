{
 "cells": [
  {
   "cell_type": "markdown",
   "metadata": {},
   "source": [
    "# Tutorial para analizar los read partidos en las deleciones"
   ]
  },
  {
   "cell_type": "markdown",
   "metadata": {},
   "source": [
    "## 1° Buscar los archivos \"sam\" de la muestra 413 los cuales tienen deleciones detectadas\n"
   ]
  },
  {
   "cell_type": "markdown",
   "metadata": {},
   "source": [
    "Debemos ingresar al cluster de Langebio con el usuario segun nos correspoda (ssh usuario@ip)\n",
    "$ cd /LUSTRE/usuario/aherrera/covid/abril/alineamientosMal/celia-sam"
   ]
  },
  {
   "cell_type": "markdown",
   "metadata": {},
   "source": [
    "Corrimos el archivo 413.sam con el siguiente script\n",
    "\n",
    " $ cat 413.sam | cut -f1,4 | sort -k3 -n -r > name-reads\n",
    " \n",
    "cat : abre el archivo\n",
    "cut -f1,4 = del archivo recorta las columnas 1 y 4\n",
    "sort = ordena los datos de las dos columnas\n",
    "* -k3 = ordena los datos por la columna 3 (deberia ser por la segunda columna, pero tenemos un espacio en la linea y hacer que bash se confunda).\n",
    "* -n = los ordena de forma numerica\n",
    "* -r = al mismo tiempo pone los datos del mayor al menor\n",
    "    \n",
    "nota: recuerda que cuando tienes un espacio en la linea, bash se confunde y lo toma como otra columna. Verifica que tu linea no tenga espacios."
   ]
  },
  {
   "cell_type": "markdown",
   "metadata": {},
   "source": [
    "# output: \n",
    "\n",
    "[aherrera@mazorka celia-sam]$ cat 413.sam | cut -f1,4 | sort -k3 -n -r | head\n",
    "\n",
    "NB501110:185:H7L72AFX2:3:11507:21445:1375 1:N:0:TAAGGCGA+AGAGGATA       29835\n",
    "NB501110:185:H7L72AFX2:4:11507:1091:3775 2:N:0:TAAGGCGA+AGAGGATA        29818\n",
    "NB501110:185:H7L72AFX2:4:11507:1091:3775 1:N:0:TAAGGCGA+AGAGGATA        29818\n",
    "NB501110:185:H7L72AFX2:4:11506:26472:3781 2:N:0:TAAGGCGA+AGAGGATA       29818\n",
    "NB501110:185:H7L72AFX2:4:11506:26472:3781 1:N:0:TAAGGCGA+AGAGGATA       29818\n",
    "NB501110:185:H7L72AFX2:3:21511:10348:14439 2:N:0:TAAGGCGA+AGAGGATA      29818\n",
    "NB501110:185:H7L72AFX2:3:21511:10348:14439 1:N:0:TAAGGCGA+AGAGGATA      29818\n",
    "NB501110:185:H7L72AFX2:4:21404:14848:1270 2:N:0:TAAGGCGA+AGAGGATA       29814\n",
    "NB501110:185:H7L72AFX2:4:21404:14848:1270 1:N:0:TAAGGCGA+AGAGGATA       29814\n",
    "NB501110:185:H7L72AFX2:2:21310:26034:3472 2:N:0:TAAGGCGA+AGAGGATA       29808"
   ]
  },
  {
   "cell_type": "code",
   "execution_count": null,
   "metadata": {},
   "outputs": [],
   "source": [
    " ## 2° Identifica la posicion de la deleción:\n",
    "* Inicia la delecion: 27875 - 100 posiciones\n",
    "* Termina la delecion: 28233 + 100 posiciones"
   ]
  },
  {
   "cell_type": "markdown",
   "metadata": {},
   "source": [
    "## 3° Obten una lista de los reads que hagan match 150 pb antes del inicio de la delecion"
   ]
  },
  {
   "cell_type": "markdown",
   "metadata": {},
   "source": [
    "$ awk '$3 >= 27775 && $3 <= 27925 ' name-reads > antes-del\n",
    "\n",
    "este script te dice que de la columna 3 tome los valores que sean mayor igual a 27775, pero que tambien tome los valores que sean menor igual a 27925."
   ]
  },
  {
   "cell_type": "markdown",
   "metadata": {},
   "source": [
    "## 4° obten una lista de los reads que hagan match 150 pb despues del final de la delecion"
   ]
  },
  {
   "cell_type": "markdown",
   "metadata": {},
   "source": [
    "$ awk '$3 >= 28233 && $3 <= 28383 ' name-reads > despues-del\n",
    "\n",
    "#nota: recuerda que cuando tienes un espacio en la linea, bash se confunde y lo toma como otra columna. Verifica que tu linea no tenga espacios."
   ]
  },
  {
   "cell_type": "markdown",
   "metadata": {},
   "source": [
    "## 5° compara las dos listas entre si "
   ]
  },
  {
   "cell_type": "markdown",
   "metadata": {},
   "source": [
    "Unir los archivos \"antes-del\" y \"despues-del\"\n",
    "\n",
    "$ cat antes-del despues-del > all-del\n",
    "\n",
    "Ordenar y contar los reads repetidos\n",
    "\n",
    "$ cat all-del | sort | uniq -c\n",
    "\n",
    "cat : abre el archivo all-del \n",
    "sort: ordena los archivos\n",
    "uniq -c : los archivos que esten repetidos los une en uno solo y al fina cuenta cuantos hay repetidos."
   ]
  },
  {
   "cell_type": "markdown",
   "metadata": {},
   "source": [
    "## 6° si hace match el metodo no funciona para detectar deleciones"
   ]
  },
  {
   "cell_type": "markdown",
   "metadata": {},
   "source": [
    "[aherrera@mazorka celia-sam]$ cat all-del | sort | uniq -c | head\n",
    "\n",
    "      1 NB501110:185:H7L72AFX2:1:11101:13093:13622 1:N:0:TAAGGCGA+AGAGGATA      27792\n",
    "      1 NB501110:185:H7L72AFX2:1:11101:13093:13622 2:N:0:TAAGGCGA+AGAGGATA      27792\n",
    "      1 NB501110:185:H7L72AFX2:1:11101:13597:8716 2:N:0:TAAGGCGA+AGAGGATA       28234\n",
    "      1 NB501110:185:H7L72AFX2:1:11101:14301:1188 1:N:0:TAAGGCGA+AGAGGATA       28255\n",
    "      1 NB501110:185:H7L72AFX2:1:11101:14301:1188 2:N:0:TAAGGCGA+AGAGGATA       28305\n",
    "      1 NB501110:185:H7L72AFX2:1:11101:15710:10990 1:N:0:TAAGGCGA+AGAGGATA      28254\n",
    "      1 NB501110:185:H7L72AFX2:1:11101:15710:10990 2:N:0:TAAGGCGA+AGAGGATA      28254\n",
    "      1 NB501110:185:H7L72AFX2:1:11101:16283:4812 1:N:0:TAAGGCGA+AGAGGATA       28267\n",
    "      1 NB501110:185:H7L72AFX2:1:11101:16283:4812 2:N:0:TAAGGCGA+AGAGGATA       28305\n",
    "      1 NB501110:185:H7L72AFX2:1:11101:1895:1113 1:N:0:TAAGGCGA+AGAGGATA        28234\n",
    "\n",
    "\n"
   ]
  },
  {
   "cell_type": "markdown",
   "metadata": {},
   "source": [
    "Conclusion: No hace match con los reads, posiblemente el metodo funciona para detectar deleciones."
   ]
  },
  {
   "cell_type": "markdown",
   "metadata": {},
   "source": [
    "Ahora entonces intentaremos por blast "
   ]
  },
  {
   "cell_type": "code",
   "execution_count": null,
   "metadata": {},
   "outputs": [],
   "source": [
    "\n",
    "# encontrar inicio de match de read y guardarlo en una variable que vas a usar en awk\n",
    "# buscar con awk los que sean mayores a 27000\n",
    "# buscar con awk los que sean menores que 28200"
   ]
  },
  {
   "cell_type": "code",
   "execution_count": 73,
   "metadata": {},
   "outputs": [
    {
     "name": "stdout",
     "output_type": "stream",
     "text": [
      "413blast\n",
      "data\n",
      "db\n",
      "deleciones1-blast.out\n",
      "deleciones2-blast.out\n",
      "deleciones.sh\n",
      "deleciones.txt\n",
      "lista\n",
      "nodelecion.txt\n"
     ]
    }
   ],
   "source": [
    "%%bash\n",
    "ls blast-deleciones/\n",
    "\n",
    "#Deleciones1.txt: es un archivo que obtuvimos del blast y que hace match en dos regiones del genoma\n",
    "#Deleciones2.txt: es un archivo que obtuvimos del blast y que hace match en una regione del genoma\n"
   ]
  },
  {
   "cell_type": "code",
   "execution_count": 57,
   "metadata": {
    "scrolled": true
   },
   "outputs": [],
   "source": [
    "%%bash\n",
    "#Hacer un escript que me busque en el archivo un numero que haga match en la region 27\n",
    "grep -l 'Sbjct* *277' blast-deleciones/*.out >> 27mil\n",
    "#grep -l 'Sbjct* *277' blast-deleciones/deleciones2.txt >> 27mil\n",
    "#Hacer un escript que me busque en el archivo un numero que haga match en la region 28 mil\n",
    "grep -l 'Sbjct* *282' blast-deleciones/*.out >> 28mil\n",
    "#grep -l 'Sbjct* *282' blast-deleciones/deleciones2.txt >> 28mil\n",
    "#grep 'Sbjct* *282' blast-deleciones/deleciones1.txt >> 28mil\n",
    "#Hacer un escript que me busque en el archivo un numero que haga match en ambas regiones"
   ]
  },
  {
   "cell_type": "code",
   "execution_count": 66,
   "metadata": {},
   "outputs": [],
   "source": [
    "%%bash\n",
    "cat 28mil | sort | uniq > 28mil-uniq"
   ]
  },
  {
   "cell_type": "code",
   "execution_count": 67,
   "metadata": {},
   "outputs": [],
   "source": [
    "%%bash\n",
    "cat 27mil | sort | uniq > 27mil-uniq"
   ]
  },
  {
   "cell_type": "code",
   "execution_count": 69,
   "metadata": {},
   "outputs": [
    {
     "name": "stdout",
     "output_type": "stream",
     "text": [
      "      2 blast-deleciones/deleciones1-blast.out\r\n"
     ]
    }
   ],
   "source": [
    "cat 27mil-uniq 28mil-uniq | sort | uniq -c | grep '2 '"
   ]
  },
  {
   "cell_type": "markdown",
   "metadata": {},
   "source": [
    "# Este comando funciona para poder separar un archivo multifasta y generar varios archivos fasta"
   ]
  },
  {
   "cell_type": "markdown",
   "metadata": {},
   "source": [
    "$ split ../413reads.fasta -l 2 preblast- --verbose\n",
    "\n",
    "output:\n",
    "\n",
    "creando archivo 'preblast-zpwy'\n",
    "creando archivo 'preblast-zpwz'\n",
    "creando archivo 'preblast-zpxa'\n",
    "creando archivo 'preblast-zpxb'\n",
    "creando archivo 'preblast-zpxc'\n",
    "creando archivo 'preblast-zpxd'\n",
    "creando archivo 'preblast-zpxe'\n",
    "creando archivo 'preblast-zpxf'\n",
    "creando archivo 'preblast-zpxg'\n"
   ]
  },
  {
   "cell_type": "code",
   "execution_count": null,
   "metadata": {},
   "outputs": [],
   "source": [
    "\n",
    "../413reads.fasta: archivo multifasta\n",
    "-l 2: esta opción le dices que corte el archivo por las dos filas\n",
    "preblast- : el es prefijo para los nuevos archivos\n",
    "--verbose : es para poder ver el proceso de split"
   ]
  },
  {
   "cell_type": "markdown",
   "metadata": {},
   "source": [
    "## Hicimos blastn a todos los archivos fasta que se generaron "
   ]
  },
  {
   "cell_type": "markdown",
   "metadata": {},
   "source": [
    " cat lista | while read line ; do echo $line; blastn -query ../data/413-del/413split/$line -db /media/betterlab/Datos01/abel/Deleciones-Mex/blast-deleciones/db/reference-covid19.fasta -out $line.txt; done\n",
    " \n",
    " el archivo lista estan los nombres de los archivos que generamos cuando utilizamos split, e hicimos un while para hacer los blast de un solo golpe\n",
    " "
   ]
  },
  {
   "cell_type": "markdown",
   "metadata": {},
   "source": [
    "## Buscamos los reads que cumplieran con el siguiente numero 277"
   ]
  },
  {
   "cell_type": "markdown",
   "metadata": {},
   "source": [
    " grep -l 'Sbjct* *277' *.txt >> 27mil\n",
    " \n",
    " note:\n",
    " -l: te va a imprimir el nombre del archivo de lo que estas buscando\n",
    " >>: Este te sirve para redireccionar los archivos y no te lo sobreescriba\n",
    " "
   ]
  },
  {
   "cell_type": "markdown",
   "metadata": {},
   "source": [
    "## Buscamos los reads que cumplieran con el siguiente numero 282"
   ]
  },
  {
   "cell_type": "markdown",
   "metadata": {},
   "source": [
    "grep -l 'Sbjct* *282' *.txt >> 28mil"
   ]
  },
  {
   "cell_type": "markdown",
   "metadata": {},
   "source": [
    "## Con este comando lo que hicimos fue eliminar los nombres dobles y evitar equivocaciones\n",
    "\n",
    "cat 28mil | sort | uniq > 28mil-uniq\n",
    " 2195  cat 27mil | sort | uniq > 27mil-uniq"
   ]
  },
  {
   "cell_type": "code",
   "execution_count": 74,
   "metadata": {},
   "outputs": [],
   "source": [
    "## Por ultimo contamos los read que estan partidos antes y despues de la delecion"
   ]
  },
  {
   "cell_type": "code",
   "execution_count": 83,
   "metadata": {},
   "outputs": [
    {
     "name": "stdout",
     "output_type": "stream",
     "text": [
      "934\n"
     ]
    }
   ],
   "source": [
    "%%bash\n",
    "cd blast-deleciones/413blast\n",
    "cat 27mil-uniq 28mil-uniq | sort | uniq -c | grep '2 ' | wc -l\n"
   ]
  },
  {
   "cell_type": "markdown",
   "metadata": {},
   "source": [
    "Conclusion: existen 934 reads que estan partidos antes de la delecion como despues de la delecion"
   ]
  },
  {
   "cell_type": "markdown",
   "metadata": {},
   "source": [
    "## 2° Haremos lo mismo que los anterior, pero sera con un archivo que no tiene deleción\n"
   ]
  },
  {
   "cell_type": "code",
   "execution_count": null,
   "metadata": {},
   "outputs": [],
   "source": []
  }
 ],
 "metadata": {
  "kernelspec": {
   "display_name": "Python 3",
   "language": "python",
   "name": "python3"
  },
  "language_info": {
   "codemirror_mode": {
    "name": "ipython",
    "version": 3
   },
   "file_extension": ".py",
   "mimetype": "text/x-python",
   "name": "python",
   "nbconvert_exporter": "python",
   "pygments_lexer": "ipython3",
   "version": "3.8.5"
  }
 },
 "nbformat": 4,
 "nbformat_minor": 4
}
